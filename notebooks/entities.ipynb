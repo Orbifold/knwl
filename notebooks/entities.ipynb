{
 "cells": [
  {
   "cell_type": "markdown",
   "metadata": {},
   "source": [
    "# Entity Extraction\n",
    "\n",
    "The stuff below is quite impressive.\n"
   ]
  },
  {
   "metadata": {
    "ExecuteTime": {
     "end_time": "2024-11-04T10:26:35.652638Z",
     "start_time": "2024-11-04T10:25:51.223682Z"
    }
   },
   "cell_type": "code",
   "source": [
    "from knwl.entities import extract_entities\n",
    " \n",
    "chunks = {\n",
    "    \"a\": Chunk(content=\"John Field lives in Chelsea and he works in Glasgow for Microsoft.\", tokens=12),\n",
    "    \"b\": Chunk(content=\"John Field went on holidays to Paris where he met Lady Maria.\", tokens=12)\n",
    "} \n",
    "\n",
    "(entities, relationships) = await extract_entities(chunks) "
   ],
   "outputs": [],
   "execution_count": 9
  },
  {
   "metadata": {
    "ExecuteTime": {
     "end_time": "2024-11-04T10:26:46.555018Z",
     "start_time": "2024-11-04T10:26:46.550105Z"
    }
   },
   "cell_type": "code",
   "source": "relationships",
   "outputs": [
    {
     "data": {
      "text/plain": [
       "defaultdict(list,\n",
       "            {('\"CHELSEA\"',\n",
       "              '\"JOHN FIELD\"'): [{'src_id': '\"JOHN FIELD\"',\n",
       "               'tgt_id': '\"CHELSEA\"',\n",
       "               'weight': 8.0,\n",
       "               'description': '\"John Field lives in Chelsea.\"',\n",
       "               'keywords': '\"residence, location\"',\n",
       "               'source_id': 'a'}],\n",
       "             ('\"GLASGOW\"',\n",
       "              '\"JOHN FIELD\"'): [{'src_id': '\"JOHN FIELD\"',\n",
       "               'tgt_id': '\"GLASGOW\"',\n",
       "               'weight': 9.0,\n",
       "               'description': '\"John Field works in Glasgow for Microsoft.\"',\n",
       "               'keywords': '\"workplace, employment\"',\n",
       "               'source_id': 'a'}],\n",
       "             ('\"JOHN FIELD\"',\n",
       "              '\"MICROSOFT\"'): [{'src_id': '\"JOHN FIELD\"',\n",
       "               'tgt_id': '\"MICROSOFT\"',\n",
       "               'weight': 10.0,\n",
       "               'description': '\"John Field is employed by Microsoft and works at its office in Glasgow.\"',\n",
       "               'keywords': '\"employment relationship\"',\n",
       "               'source_id': 'a'}],\n",
       "             ('\"CHELSEA\"',\n",
       "              '\"GLASGOW\"'): [{'src_id': '\"CHELSEA\"',\n",
       "               'tgt_id': '\"GLASGOW\"',\n",
       "               'weight': 4.0,\n",
       "               'description': '\"The text does not directly describe a relationship between Chelsea and Glasgow, but both are locations relevant to John Field\\'s life and work.\"',\n",
       "               'keywords': '\"proximity, context\"',\n",
       "               'source_id': 'a'}],\n",
       "             ('\"JOHN FIELD\"',\n",
       "              '\"PARIS\"'): [{'src_id': '\"JOHN FIELD\"',\n",
       "               'tgt_id': '\"PARIS\"',\n",
       "               'weight': 6.0,\n",
       "               'description': '\"John Field traveled to Paris for holidays, meeting Lady Maria there.\"',\n",
       "               'keywords': '\"travel, encounter\"',\n",
       "               'source_id': 'b'}],\n",
       "             ('\"LADY MARIA\"',\n",
       "              '\"PARIS\"'): [{'src_id': '\"LADY MARIA\"',\n",
       "               'tgt_id': '\"PARIS\"',\n",
       "               'weight': 5.0,\n",
       "               'description': '\"Lady Maria was in Paris when she met John Field during his holiday.\"',\n",
       "               'keywords': '\"encounter, location\"',\n",
       "               'source_id': 'b'}],\n",
       "             ('\"JOHN FIELD\"',\n",
       "              '\"LADY MARIA\"'): [{'src_id': '\"JOHN FIELD\"',\n",
       "               'tgt_id': '\"LADY MARIA\"',\n",
       "               'weight': 8.0,\n",
       "               'description': '\"John Field met Lady Maria during his holidays in Paris.\"',\n",
       "               'keywords': '\"encounter, social interaction\"',\n",
       "               'source_id': 'b'}]})"
      ]
     },
     "execution_count": 10,
     "metadata": {},
     "output_type": "execute_result"
    }
   ],
   "execution_count": 10
  },
  {
   "metadata": {
    "ExecuteTime": {
     "end_time": "2024-11-04T10:27:11.549076Z",
     "start_time": "2024-11-04T10:27:11.545642Z"
    }
   },
   "cell_type": "code",
   "source": "entities",
   "outputs": [
    {
     "data": {
      "text/plain": [
       "defaultdict(list,\n",
       "            {'\"JOHN FIELD\"': [{'entity_name': '\"JOHN FIELD\"',\n",
       "               'entity_type': '\"PERSON\"',\n",
       "               'description': '\"John Field is an individual who resides in Chelsea and works at Microsoft in Glasgow.\"',\n",
       "               'source_id': 'a'},\n",
       "              {'entity_name': '\"JOHN FIELD\"',\n",
       "               'entity_type': '\"PERSON\"',\n",
       "               'description': '\"John Field is a person who went on holidays to Paris and met Lady Maria.\"',\n",
       "               'source_id': 'b'}],\n",
       "             '\"CHELSEA\"': [{'entity_name': '\"CHELSEA\"',\n",
       "               'entity_type': '\"GEO\"',\n",
       "               'description': '\"Chelsea is a location where John Field lives.\"',\n",
       "               'source_id': 'a'}],\n",
       "             '\"GLASGOW\"': [{'entity_name': '\"GLASGOW\"',\n",
       "               'entity_type': '\"GEO\"',\n",
       "               'description': '\"Glasgow is a city where John Field works for Microsoft.\"',\n",
       "               'source_id': 'a'}],\n",
       "             '\"MICROSOFT\"': [{'entity_name': '\"MICROSOFT\"',\n",
       "               'entity_type': '\"ORGANIZATION\"',\n",
       "               'description': '\"Microsoft is the company where John Field is employed and it has an office in Glasgow.\"',\n",
       "               'source_id': 'a'}],\n",
       "             '\"LADY MARIA\"': [{'entity_name': '\"LADY MARIA\"',\n",
       "               'entity_type': '\"PERSON\"',\n",
       "               'description': '\"Lady Maria is a person that John Field met during his holiday in Paris.\"',\n",
       "               'source_id': 'b'}],\n",
       "             '\"PARIS\"': [{'entity_name': '\"PARIS\"',\n",
       "               'entity_type': '\"GEO\"',\n",
       "               'description': '\"Paris is the city where John Field went on holidays and met Lady Maria.\"',\n",
       "               'source_id': 'b'}],\n",
       "             '\"HOLIDAYS IN PARIS\"': [{'entity_name': '\"HOLIDAYS IN PARIS\"',\n",
       "               'entity_type': '\"EVENT\"',\n",
       "               'description': '\"John Field went on holidays to Paris, where he had a significant encounter with Lady Maria.\"',\n",
       "               'source_id': 'b'}]})"
      ]
     },
     "execution_count": 11,
     "metadata": {},
     "output_type": "execute_result"
    }
   ],
   "execution_count": 11
  },
  {
   "metadata": {},
   "cell_type": "code",
   "outputs": [],
   "execution_count": null,
   "source": ""
  }
 ],
 "metadata": {
  "kernelspec": {
   "display_name": ".venv",
   "language": "python",
   "name": "python3"
  },
  "language_info": {
   "codemirror_mode": {
    "name": "ipython",
    "version": 3
   },
   "file_extension": ".py",
   "mimetype": "text/x-python",
   "name": "python",
   "nbconvert_exporter": "python",
   "pygments_lexer": "ipython3",
   "version": "3.12.2"
  }
 },
 "nbformat": 4,
 "nbformat_minor": 2
}
